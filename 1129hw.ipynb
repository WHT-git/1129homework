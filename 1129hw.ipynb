{
  "nbformat": 4,
  "nbformat_minor": 0,
  "metadata": {
    "colab": {
      "name": "1129hw.ipynb",
      "provenance": [],
      "mount_file_id": "1u7X7a8Q0mgsaTGhRjPPw4n2Skc4_dOF5",
      "authorship_tag": "ABX9TyOH1Q8YCgWn175DwPfpKDYm"
    },
    "kernelspec": {
      "name": "python3",
      "display_name": "Python 3"
    }
  },
  "cells": [
    {
      "cell_type": "code",
      "metadata": {
        "id": "Whqpq95be5Wl"
      },
      "source": [
        "import pandas as pd\n",
        "import numpy as np\n",
        "from sklearn.linear_model import LinearRegression\n",
        "from sklearn.model_selection import train_test_split\n",
        "from sklearn.preprocessing import LabelEncoder\n",
        "import matplotlib.pyplot as plt"
      ],
      "execution_count": 86,
      "outputs": []
    },
    {
      "cell_type": "code",
      "metadata": {
        "colab": {
          "base_uri": "https://localhost:8080/",
          "height": 161
        },
        "id": "k0z8zh6pguFU",
        "outputId": "8a63e56f-67ce-42b1-b2d0-4d5420c82a8f"
      },
      "source": [
        "data = pd.read_csv('/content/drive/MyDrive/機器學習作業/CSV/bank-full.csv')\n",
        "data.head(3)"
      ],
      "execution_count": 87,
      "outputs": [
        {
          "output_type": "execute_result",
          "data": {
            "text/html": [
              "<div>\n",
              "<style scoped>\n",
              "    .dataframe tbody tr th:only-of-type {\n",
              "        vertical-align: middle;\n",
              "    }\n",
              "\n",
              "    .dataframe tbody tr th {\n",
              "        vertical-align: top;\n",
              "    }\n",
              "\n",
              "    .dataframe thead th {\n",
              "        text-align: right;\n",
              "    }\n",
              "</style>\n",
              "<table border=\"1\" class=\"dataframe\">\n",
              "  <thead>\n",
              "    <tr style=\"text-align: right;\">\n",
              "      <th></th>\n",
              "      <th>age</th>\n",
              "      <th>job</th>\n",
              "      <th>marital</th>\n",
              "      <th>education</th>\n",
              "      <th>default</th>\n",
              "      <th>balance</th>\n",
              "      <th>housing</th>\n",
              "      <th>loan</th>\n",
              "      <th>contact</th>\n",
              "      <th>day</th>\n",
              "      <th>month</th>\n",
              "      <th>duration</th>\n",
              "      <th>campaign</th>\n",
              "      <th>pdays</th>\n",
              "      <th>previous</th>\n",
              "      <th>poutcome</th>\n",
              "      <th>y</th>\n",
              "    </tr>\n",
              "  </thead>\n",
              "  <tbody>\n",
              "    <tr>\n",
              "      <th>0</th>\n",
              "      <td>58</td>\n",
              "      <td>management</td>\n",
              "      <td>married</td>\n",
              "      <td>tertiary</td>\n",
              "      <td>no</td>\n",
              "      <td>2143</td>\n",
              "      <td>yes</td>\n",
              "      <td>no</td>\n",
              "      <td>unknown</td>\n",
              "      <td>5</td>\n",
              "      <td>may</td>\n",
              "      <td>261</td>\n",
              "      <td>1</td>\n",
              "      <td>-1</td>\n",
              "      <td>0</td>\n",
              "      <td>unknown</td>\n",
              "      <td>no</td>\n",
              "    </tr>\n",
              "    <tr>\n",
              "      <th>1</th>\n",
              "      <td>44</td>\n",
              "      <td>technician</td>\n",
              "      <td>single</td>\n",
              "      <td>secondary</td>\n",
              "      <td>no</td>\n",
              "      <td>29</td>\n",
              "      <td>yes</td>\n",
              "      <td>no</td>\n",
              "      <td>unknown</td>\n",
              "      <td>5</td>\n",
              "      <td>may</td>\n",
              "      <td>151</td>\n",
              "      <td>1</td>\n",
              "      <td>-1</td>\n",
              "      <td>0</td>\n",
              "      <td>unknown</td>\n",
              "      <td>no</td>\n",
              "    </tr>\n",
              "    <tr>\n",
              "      <th>2</th>\n",
              "      <td>33</td>\n",
              "      <td>entrepreneur</td>\n",
              "      <td>married</td>\n",
              "      <td>secondary</td>\n",
              "      <td>no</td>\n",
              "      <td>2</td>\n",
              "      <td>yes</td>\n",
              "      <td>yes</td>\n",
              "      <td>unknown</td>\n",
              "      <td>5</td>\n",
              "      <td>may</td>\n",
              "      <td>76</td>\n",
              "      <td>1</td>\n",
              "      <td>-1</td>\n",
              "      <td>0</td>\n",
              "      <td>unknown</td>\n",
              "      <td>no</td>\n",
              "    </tr>\n",
              "  </tbody>\n",
              "</table>\n",
              "</div>"
            ],
            "text/plain": [
              "   age           job  marital  education  ... pdays  previous poutcome   y\n",
              "0   58    management  married   tertiary  ...    -1         0  unknown  no\n",
              "1   44    technician   single  secondary  ...    -1         0  unknown  no\n",
              "2   33  entrepreneur  married  secondary  ...    -1         0  unknown  no\n",
              "\n",
              "[3 rows x 17 columns]"
            ]
          },
          "metadata": {
            "tags": []
          },
          "execution_count": 87
        }
      ]
    },
    {
      "cell_type": "code",
      "metadata": {
        "colab": {
          "base_uri": "https://localhost:8080/"
        },
        "id": "SB197V1rg4bk",
        "outputId": "aacfb13f-4f23-4ce8-b997-4d72a7fdcbe8"
      },
      "source": [
        "data.shape"
      ],
      "execution_count": 88,
      "outputs": [
        {
          "output_type": "execute_result",
          "data": {
            "text/plain": [
              "(45211, 17)"
            ]
          },
          "metadata": {
            "tags": []
          },
          "execution_count": 88
        }
      ]
    },
    {
      "cell_type": "code",
      "metadata": {
        "colab": {
          "base_uri": "https://localhost:8080/"
        },
        "id": "qP29enSHg7nq",
        "outputId": "716fa1ee-8147-4096-f311-71a26f1f0cba"
      },
      "source": [
        "#沒有錯誤資料\n",
        "data.isnull().sum()"
      ],
      "execution_count": 89,
      "outputs": [
        {
          "output_type": "execute_result",
          "data": {
            "text/plain": [
              "age          0\n",
              "job          0\n",
              "marital      0\n",
              "education    0\n",
              "default      0\n",
              "balance      0\n",
              "housing      0\n",
              "loan         0\n",
              "contact      0\n",
              "day          0\n",
              "month        0\n",
              "duration     0\n",
              "campaign     0\n",
              "pdays        0\n",
              "previous     0\n",
              "poutcome     0\n",
              "y            0\n",
              "dtype: int64"
            ]
          },
          "metadata": {
            "tags": []
          },
          "execution_count": 89
        }
      ]
    },
    {
      "cell_type": "code",
      "metadata": {
        "id": "G5VOW4msg9aR"
      },
      "source": [
        "le = LabelEncoder()"
      ],
      "execution_count": 90,
      "outputs": []
    },
    {
      "cell_type": "code",
      "metadata": {
        "colab": {
          "base_uri": "https://localhost:8080/",
          "height": 435
        },
        "id": "eS8_RMSihQ5f",
        "outputId": "fb4f1fff-a52f-4bab-a9f3-10ced829000f"
      },
      "source": [
        "data['job'] = le.fit_transform(data['job'])\n",
        "data['marital'] = le.fit_transform(data['marital'])\n",
        "data['education'] = le.fit_transform(data['education'])\n",
        "data['default'] = le.fit_transform(data['default'])\n",
        "data['housing'] = le.fit_transform(data['housing'])\n",
        "data['loan'] = le.fit_transform(data['loan'])\n",
        "data['contact'] = le.fit_transform(data['contact'])\n",
        "data['month'] = le.fit_transform(data['month'])\n",
        "data['poutcome'] = le.fit_transform(data['poutcome'])\n",
        "data['y'] = le.fit_transform(data['y'])\n",
        "data"
      ],
      "execution_count": 91,
      "outputs": [
        {
          "output_type": "execute_result",
          "data": {
            "text/html": [
              "<div>\n",
              "<style scoped>\n",
              "    .dataframe tbody tr th:only-of-type {\n",
              "        vertical-align: middle;\n",
              "    }\n",
              "\n",
              "    .dataframe tbody tr th {\n",
              "        vertical-align: top;\n",
              "    }\n",
              "\n",
              "    .dataframe thead th {\n",
              "        text-align: right;\n",
              "    }\n",
              "</style>\n",
              "<table border=\"1\" class=\"dataframe\">\n",
              "  <thead>\n",
              "    <tr style=\"text-align: right;\">\n",
              "      <th></th>\n",
              "      <th>age</th>\n",
              "      <th>job</th>\n",
              "      <th>marital</th>\n",
              "      <th>education</th>\n",
              "      <th>default</th>\n",
              "      <th>balance</th>\n",
              "      <th>housing</th>\n",
              "      <th>loan</th>\n",
              "      <th>contact</th>\n",
              "      <th>day</th>\n",
              "      <th>month</th>\n",
              "      <th>duration</th>\n",
              "      <th>campaign</th>\n",
              "      <th>pdays</th>\n",
              "      <th>previous</th>\n",
              "      <th>poutcome</th>\n",
              "      <th>y</th>\n",
              "    </tr>\n",
              "  </thead>\n",
              "  <tbody>\n",
              "    <tr>\n",
              "      <th>0</th>\n",
              "      <td>58</td>\n",
              "      <td>4</td>\n",
              "      <td>1</td>\n",
              "      <td>2</td>\n",
              "      <td>0</td>\n",
              "      <td>2143</td>\n",
              "      <td>1</td>\n",
              "      <td>0</td>\n",
              "      <td>2</td>\n",
              "      <td>5</td>\n",
              "      <td>8</td>\n",
              "      <td>261</td>\n",
              "      <td>1</td>\n",
              "      <td>-1</td>\n",
              "      <td>0</td>\n",
              "      <td>3</td>\n",
              "      <td>0</td>\n",
              "    </tr>\n",
              "    <tr>\n",
              "      <th>1</th>\n",
              "      <td>44</td>\n",
              "      <td>9</td>\n",
              "      <td>2</td>\n",
              "      <td>1</td>\n",
              "      <td>0</td>\n",
              "      <td>29</td>\n",
              "      <td>1</td>\n",
              "      <td>0</td>\n",
              "      <td>2</td>\n",
              "      <td>5</td>\n",
              "      <td>8</td>\n",
              "      <td>151</td>\n",
              "      <td>1</td>\n",
              "      <td>-1</td>\n",
              "      <td>0</td>\n",
              "      <td>3</td>\n",
              "      <td>0</td>\n",
              "    </tr>\n",
              "    <tr>\n",
              "      <th>2</th>\n",
              "      <td>33</td>\n",
              "      <td>2</td>\n",
              "      <td>1</td>\n",
              "      <td>1</td>\n",
              "      <td>0</td>\n",
              "      <td>2</td>\n",
              "      <td>1</td>\n",
              "      <td>1</td>\n",
              "      <td>2</td>\n",
              "      <td>5</td>\n",
              "      <td>8</td>\n",
              "      <td>76</td>\n",
              "      <td>1</td>\n",
              "      <td>-1</td>\n",
              "      <td>0</td>\n",
              "      <td>3</td>\n",
              "      <td>0</td>\n",
              "    </tr>\n",
              "    <tr>\n",
              "      <th>3</th>\n",
              "      <td>47</td>\n",
              "      <td>1</td>\n",
              "      <td>1</td>\n",
              "      <td>3</td>\n",
              "      <td>0</td>\n",
              "      <td>1506</td>\n",
              "      <td>1</td>\n",
              "      <td>0</td>\n",
              "      <td>2</td>\n",
              "      <td>5</td>\n",
              "      <td>8</td>\n",
              "      <td>92</td>\n",
              "      <td>1</td>\n",
              "      <td>-1</td>\n",
              "      <td>0</td>\n",
              "      <td>3</td>\n",
              "      <td>0</td>\n",
              "    </tr>\n",
              "    <tr>\n",
              "      <th>4</th>\n",
              "      <td>33</td>\n",
              "      <td>11</td>\n",
              "      <td>2</td>\n",
              "      <td>3</td>\n",
              "      <td>0</td>\n",
              "      <td>1</td>\n",
              "      <td>0</td>\n",
              "      <td>0</td>\n",
              "      <td>2</td>\n",
              "      <td>5</td>\n",
              "      <td>8</td>\n",
              "      <td>198</td>\n",
              "      <td>1</td>\n",
              "      <td>-1</td>\n",
              "      <td>0</td>\n",
              "      <td>3</td>\n",
              "      <td>0</td>\n",
              "    </tr>\n",
              "    <tr>\n",
              "      <th>...</th>\n",
              "      <td>...</td>\n",
              "      <td>...</td>\n",
              "      <td>...</td>\n",
              "      <td>...</td>\n",
              "      <td>...</td>\n",
              "      <td>...</td>\n",
              "      <td>...</td>\n",
              "      <td>...</td>\n",
              "      <td>...</td>\n",
              "      <td>...</td>\n",
              "      <td>...</td>\n",
              "      <td>...</td>\n",
              "      <td>...</td>\n",
              "      <td>...</td>\n",
              "      <td>...</td>\n",
              "      <td>...</td>\n",
              "      <td>...</td>\n",
              "    </tr>\n",
              "    <tr>\n",
              "      <th>45206</th>\n",
              "      <td>51</td>\n",
              "      <td>9</td>\n",
              "      <td>1</td>\n",
              "      <td>2</td>\n",
              "      <td>0</td>\n",
              "      <td>825</td>\n",
              "      <td>0</td>\n",
              "      <td>0</td>\n",
              "      <td>0</td>\n",
              "      <td>17</td>\n",
              "      <td>9</td>\n",
              "      <td>977</td>\n",
              "      <td>3</td>\n",
              "      <td>-1</td>\n",
              "      <td>0</td>\n",
              "      <td>3</td>\n",
              "      <td>1</td>\n",
              "    </tr>\n",
              "    <tr>\n",
              "      <th>45207</th>\n",
              "      <td>71</td>\n",
              "      <td>5</td>\n",
              "      <td>0</td>\n",
              "      <td>0</td>\n",
              "      <td>0</td>\n",
              "      <td>1729</td>\n",
              "      <td>0</td>\n",
              "      <td>0</td>\n",
              "      <td>0</td>\n",
              "      <td>17</td>\n",
              "      <td>9</td>\n",
              "      <td>456</td>\n",
              "      <td>2</td>\n",
              "      <td>-1</td>\n",
              "      <td>0</td>\n",
              "      <td>3</td>\n",
              "      <td>1</td>\n",
              "    </tr>\n",
              "    <tr>\n",
              "      <th>45208</th>\n",
              "      <td>72</td>\n",
              "      <td>5</td>\n",
              "      <td>1</td>\n",
              "      <td>1</td>\n",
              "      <td>0</td>\n",
              "      <td>5715</td>\n",
              "      <td>0</td>\n",
              "      <td>0</td>\n",
              "      <td>0</td>\n",
              "      <td>17</td>\n",
              "      <td>9</td>\n",
              "      <td>1127</td>\n",
              "      <td>5</td>\n",
              "      <td>184</td>\n",
              "      <td>3</td>\n",
              "      <td>2</td>\n",
              "      <td>1</td>\n",
              "    </tr>\n",
              "    <tr>\n",
              "      <th>45209</th>\n",
              "      <td>57</td>\n",
              "      <td>1</td>\n",
              "      <td>1</td>\n",
              "      <td>1</td>\n",
              "      <td>0</td>\n",
              "      <td>668</td>\n",
              "      <td>0</td>\n",
              "      <td>0</td>\n",
              "      <td>1</td>\n",
              "      <td>17</td>\n",
              "      <td>9</td>\n",
              "      <td>508</td>\n",
              "      <td>4</td>\n",
              "      <td>-1</td>\n",
              "      <td>0</td>\n",
              "      <td>3</td>\n",
              "      <td>0</td>\n",
              "    </tr>\n",
              "    <tr>\n",
              "      <th>45210</th>\n",
              "      <td>37</td>\n",
              "      <td>2</td>\n",
              "      <td>1</td>\n",
              "      <td>1</td>\n",
              "      <td>0</td>\n",
              "      <td>2971</td>\n",
              "      <td>0</td>\n",
              "      <td>0</td>\n",
              "      <td>0</td>\n",
              "      <td>17</td>\n",
              "      <td>9</td>\n",
              "      <td>361</td>\n",
              "      <td>2</td>\n",
              "      <td>188</td>\n",
              "      <td>11</td>\n",
              "      <td>1</td>\n",
              "      <td>0</td>\n",
              "    </tr>\n",
              "  </tbody>\n",
              "</table>\n",
              "<p>45211 rows × 17 columns</p>\n",
              "</div>"
            ],
            "text/plain": [
              "       age  job  marital  education  ...  pdays  previous  poutcome  y\n",
              "0       58    4        1          2  ...     -1         0         3  0\n",
              "1       44    9        2          1  ...     -1         0         3  0\n",
              "2       33    2        1          1  ...     -1         0         3  0\n",
              "3       47    1        1          3  ...     -1         0         3  0\n",
              "4       33   11        2          3  ...     -1         0         3  0\n",
              "...    ...  ...      ...        ...  ...    ...       ...       ... ..\n",
              "45206   51    9        1          2  ...     -1         0         3  1\n",
              "45207   71    5        0          0  ...     -1         0         3  1\n",
              "45208   72    5        1          1  ...    184         3         2  1\n",
              "45209   57    1        1          1  ...     -1         0         3  0\n",
              "45210   37    2        1          1  ...    188        11         1  0\n",
              "\n",
              "[45211 rows x 17 columns]"
            ]
          },
          "metadata": {
            "tags": []
          },
          "execution_count": 91
        }
      ]
    },
    {
      "cell_type": "code",
      "metadata": {
        "id": "_0k3EGvYhSWi"
      },
      "source": [
        "#因此將y分離(output_target)\n",
        "target_y = data['y'].values\n",
        "data_in = data.drop('y', 1)"
      ],
      "execution_count": 92,
      "outputs": []
    },
    {
      "cell_type": "code",
      "metadata": {
        "id": "Tvhc21a8iX8m"
      },
      "source": [
        "from sklearn.preprocessing import StandardScaler"
      ],
      "execution_count": 93,
      "outputs": []
    },
    {
      "cell_type": "code",
      "metadata": {
        "id": "IFUtHuEViZtD"
      },
      "source": [
        "ss = StandardScaler()"
      ],
      "execution_count": 94,
      "outputs": []
    },
    {
      "cell_type": "code",
      "metadata": {
        "colab": {
          "base_uri": "https://localhost:8080/"
        },
        "id": "gFu9sYstibGX",
        "outputId": "362b0adc-70f9-42e0-f4c5-d60587bf01a2"
      },
      "source": [
        "scaled_data = ss.fit_transform(data_in)\n",
        "scaled_data"
      ],
      "execution_count": 95,
      "outputs": [
        {
          "output_type": "execute_result",
          "data": {
            "text/plain": [
              "array([[ 1.60696496, -0.10381968, -0.27576178, ..., -0.41145311,\n",
              "        -0.25194037,  0.44489814],\n",
              "       [ 0.28852927,  1.42400783,  1.3683719 , ..., -0.41145311,\n",
              "        -0.25194037,  0.44489814],\n",
              "       [-0.74738448, -0.71495069, -0.27576178, ..., -0.41145311,\n",
              "        -0.25194037,  0.44489814],\n",
              "       ...,\n",
              "       [ 2.92540065,  0.20174582, -0.27576178, ...,  1.43618859,\n",
              "         1.05047333, -0.56617504],\n",
              "       [ 1.51279098, -1.02051619, -0.27576178, ..., -0.41145311,\n",
              "        -0.25194037,  0.44489814],\n",
              "       [-0.37068857, -0.71495069, -0.27576178, ...,  1.4761376 ,\n",
              "         4.52357654, -1.57724822]])"
            ]
          },
          "metadata": {
            "tags": []
          },
          "execution_count": 95
        }
      ]
    },
    {
      "cell_type": "code",
      "metadata": {
        "id": "IXfjoeSRicu-"
      },
      "source": [
        "from sklearn.decomposition import PCA"
      ],
      "execution_count": 96,
      "outputs": []
    },
    {
      "cell_type": "code",
      "metadata": {
        "id": "112-kj2sj_Je"
      },
      "source": [
        "pca = PCA(n_components=16)"
      ],
      "execution_count": 97,
      "outputs": []
    },
    {
      "cell_type": "code",
      "metadata": {
        "id": "DWEosqFBkE9C"
      },
      "source": [
        "x_feature = pca.fit_transform(scaled_data)"
      ],
      "execution_count": 98,
      "outputs": []
    },
    {
      "cell_type": "code",
      "metadata": {
        "colab": {
          "base_uri": "https://localhost:8080/"
        },
        "id": "csPQDaiNkGum",
        "outputId": "da4f8a3a-5c3f-4364-a0ef-5e7c76d4f5fb"
      },
      "source": [
        "x_feature"
      ],
      "execution_count": 99,
      "outputs": [
        {
          "output_type": "execute_result",
          "data": {
            "text/plain": [
              "array([[-0.78890923, -1.31830434,  0.77622944, ..., -0.91095236,\n",
              "         0.78134598,  0.01807685],\n",
              "       [-0.73076082, -1.2819238 , -1.05772434, ..., -0.80708433,\n",
              "         0.84246101, -0.00626468],\n",
              "       [-0.82883489, -2.38356872, -0.29819299, ..., -0.1503869 ,\n",
              "        -0.56243756, -0.01018423],\n",
              "       ...,\n",
              "       [ 1.57891358,  0.5852589 ,  2.50001712, ...,  0.28133803,\n",
              "         1.33432119,  0.68063531],\n",
              "       [-0.94353462, -0.40619616,  1.43027295, ...,  0.42936521,\n",
              "         0.55606185,  0.03677162],\n",
              "       [ 3.93389431, -0.3128333 ,  0.60783749, ...,  1.6215404 ,\n",
              "        -0.12475192,  0.10213318]])"
            ]
          },
          "metadata": {
            "tags": []
          },
          "execution_count": 99
        }
      ]
    },
    {
      "cell_type": "code",
      "metadata": {
        "id": "1TQf_2HgkL02"
      },
      "source": [
        "X_train, X_test, Y_train, Y_test = train_test_split(x_feature, target_y, test_size=0.2, random_state=1234)"
      ],
      "execution_count": 100,
      "outputs": []
    },
    {
      "cell_type": "code",
      "metadata": {
        "colab": {
          "base_uri": "https://localhost:8080/"
        },
        "id": "coq6QTne_Obe",
        "outputId": "36d4ca10-8746-4cad-ec25-00cd84fe7bc2"
      },
      "source": [
        "X_train.shape"
      ],
      "execution_count": 101,
      "outputs": [
        {
          "output_type": "execute_result",
          "data": {
            "text/plain": [
              "(36168, 16)"
            ]
          },
          "metadata": {
            "tags": []
          },
          "execution_count": 101
        }
      ]
    },
    {
      "cell_type": "code",
      "metadata": {
        "colab": {
          "base_uri": "https://localhost:8080/"
        },
        "id": "1GPALhNm_QzN",
        "outputId": "6ff83c56-a13e-4193-c3be-596d1c0a9aed"
      },
      "source": [
        "X_test.shape"
      ],
      "execution_count": 102,
      "outputs": [
        {
          "output_type": "execute_result",
          "data": {
            "text/plain": [
              "(9043, 16)"
            ]
          },
          "metadata": {
            "tags": []
          },
          "execution_count": 102
        }
      ]
    },
    {
      "cell_type": "code",
      "metadata": {
        "colab": {
          "base_uri": "https://localhost:8080/"
        },
        "id": "qJ_gQw23_TCL",
        "outputId": "b2ccdf33-9b25-4b2a-cd2b-cc58de29b780"
      },
      "source": [
        "Y_train.shape"
      ],
      "execution_count": 103,
      "outputs": [
        {
          "output_type": "execute_result",
          "data": {
            "text/plain": [
              "(36168,)"
            ]
          },
          "metadata": {
            "tags": []
          },
          "execution_count": 103
        }
      ]
    },
    {
      "cell_type": "code",
      "metadata": {
        "colab": {
          "base_uri": "https://localhost:8080/"
        },
        "id": "EmacOtrU_YL9",
        "outputId": "e6b44f1e-2619-4e72-dd1d-7fd3223a9c1d"
      },
      "source": [
        "Y_test.shape"
      ],
      "execution_count": 104,
      "outputs": [
        {
          "output_type": "execute_result",
          "data": {
            "text/plain": [
              "(9043,)"
            ]
          },
          "metadata": {
            "tags": []
          },
          "execution_count": 104
        }
      ]
    },
    {
      "cell_type": "code",
      "metadata": {
        "id": "lXSSHWsDl3ls"
      },
      "source": [
        "from sklearn.model_selection import cross_val_score\n",
        "from sklearn.linear_model import LogisticRegression"
      ],
      "execution_count": 105,
      "outputs": []
    },
    {
      "cell_type": "code",
      "metadata": {
        "colab": {
          "base_uri": "https://localhost:8080/"
        },
        "id": "rj8_cH-Cl_qM",
        "outputId": "e723a86c-5f8d-4276-8599-36bade137abf"
      },
      "source": [
        "lr = LogisticRegression()\n",
        "cross_val_score(lr, X_test, Y_test, scoring='accuracy', cv=10).mean()"
      ],
      "execution_count": 106,
      "outputs": [
        {
          "output_type": "execute_result",
          "data": {
            "text/plain": [
              "0.8946150931403707"
            ]
          },
          "metadata": {
            "tags": []
          },
          "execution_count": 106
        }
      ]
    },
    {
      "cell_type": "code",
      "metadata": {
        "id": "QjjXFIgBmC4M"
      },
      "source": [
        "from sklearn.svm import SVC\n",
        "import multiprocessing"
      ],
      "execution_count": 107,
      "outputs": []
    },
    {
      "cell_type": "code",
      "metadata": {
        "id": "8dB7qERtmM-2"
      },
      "source": [
        "classifier = SVC(kernel = 'rbf', random_state = 1234)\n",
        "nsvc=classifier.fit(X_train, Y_train)"
      ],
      "execution_count": 108,
      "outputs": []
    },
    {
      "cell_type": "code",
      "metadata": {
        "colab": {
          "base_uri": "https://localhost:8080/"
        },
        "id": "NkczfqHppfoc",
        "outputId": "909cfcd4-614e-4988-9e54-509f1447c6af"
      },
      "source": [
        "cross_val_score(nsvc, X_test, Y_test, scoring='accuracy', cv=10).mean()"
      ],
      "execution_count": 109,
      "outputs": [
        {
          "output_type": "execute_result",
          "data": {
            "text/plain": [
              "0.8954999266611254"
            ]
          },
          "metadata": {
            "tags": []
          },
          "execution_count": 109
        }
      ]
    },
    {
      "cell_type": "code",
      "metadata": {
        "colab": {
          "base_uri": "https://localhost:8080/"
        },
        "id": "AwXQ2XFSqVPv",
        "outputId": "c5d98400-e37e-47e1-83ac-79bf691db3ff"
      },
      "source": [
        "lsvc = SVC(kernel='linear', random_state = 1234)\n",
        "cross_val_score(lsvc, X_test, Y_test, scoring='accuracy', cv=10).mean()"
      ],
      "execution_count": 110,
      "outputs": [
        {
          "output_type": "execute_result",
          "data": {
            "text/plain": [
              "0.885989585879822"
            ]
          },
          "metadata": {
            "tags": []
          },
          "execution_count": 110
        }
      ]
    },
    {
      "cell_type": "code",
      "metadata": {
        "id": "toHQx3CutYMV"
      },
      "source": [
        "from sklearn.neural_network import MLPClassifier"
      ],
      "execution_count": 111,
      "outputs": []
    },
    {
      "cell_type": "code",
      "metadata": {
        "colab": {
          "base_uri": "https://localhost:8080/"
        },
        "id": "u2LhDJed9HuM",
        "outputId": "c0abf998-b0dc-4a37-df8b-b5edaff7f547"
      },
      "source": [
        "mlp = MLPClassifier(hidden_layer_sizes=(50,), activation='tanh', solver='sgd', learning_rate_init=0.1, max_iter=10000)\n",
        "mlp.fit(X_train, Y_train)\n",
        "mlp.score(X_test, Y_test)"
      ],
      "execution_count": 112,
      "outputs": [
        {
          "output_type": "execute_result",
          "data": {
            "text/plain": [
              "0.898595598805706"
            ]
          },
          "metadata": {
            "tags": []
          },
          "execution_count": 112
        }
      ]
    },
    {
      "cell_type": "code",
      "metadata": {
        "id": "khgvKySP9QxX"
      },
      "source": [
        "from tensorflow.keras import Sequential\n",
        "from tensorflow.keras.layers import Dense\n",
        "from sklearn.model_selection import GridSearchCV\n",
        "from sklearn import model_selection"
      ],
      "execution_count": 113,
      "outputs": []
    },
    {
      "cell_type": "code",
      "metadata": {
        "id": "8Qd2IOLD9zsR"
      },
      "source": [
        "model = Sequential()"
      ],
      "execution_count": 114,
      "outputs": []
    },
    {
      "cell_type": "code",
      "metadata": {
        "id": "fz6SvNoT922v"
      },
      "source": [
        "model.add(Dense(50, activation='tanh',input_shape=(16,)))\n",
        "model.add(Dense(30, activation='sigmoid'))\n",
        "model.add(Dense(1, activation='sigmoid'))\n",
        "model.compile(optimizer='adam', loss='binary_crossentropy', metrics=['accuracy'])"
      ],
      "execution_count": 115,
      "outputs": []
    },
    {
      "cell_type": "code",
      "metadata": {
        "colab": {
          "base_uri": "https://localhost:8080/"
        },
        "id": "UVJjwLGq99HV",
        "outputId": "62d78ad9-473a-4736-80ce-caf182ea1965"
      },
      "source": [
        "model.summary()"
      ],
      "execution_count": 116,
      "outputs": [
        {
          "output_type": "stream",
          "text": [
            "Model: \"sequential_2\"\n",
            "_________________________________________________________________\n",
            "Layer (type)                 Output Shape              Param #   \n",
            "=================================================================\n",
            "dense_15 (Dense)             (None, 50)                850       \n",
            "_________________________________________________________________\n",
            "dense_16 (Dense)             (None, 30)                1530      \n",
            "_________________________________________________________________\n",
            "dense_17 (Dense)             (None, 1)                 31        \n",
            "=================================================================\n",
            "Total params: 2,411\n",
            "Trainable params: 2,411\n",
            "Non-trainable params: 0\n",
            "_________________________________________________________________\n"
          ],
          "name": "stdout"
        }
      ]
    },
    {
      "cell_type": "code",
      "metadata": {
        "colab": {
          "base_uri": "https://localhost:8080/"
        },
        "id": "qlWX8EvC-5h-",
        "outputId": "7e2c4444-fc4e-4d25-e6d5-0413f093c071"
      },
      "source": [
        "model.fit(X_train, Y_train, epochs=30, batch_size=20)"
      ],
      "execution_count": 117,
      "outputs": [
        {
          "output_type": "stream",
          "text": [
            "Epoch 1/30\n",
            "1809/1809 [==============================] - 2s 1ms/step - loss: 0.2774 - accuracy: 0.8771\n",
            "Epoch 2/30\n",
            "1809/1809 [==============================] - 2s 1ms/step - loss: 0.2437 - accuracy: 0.8967\n",
            "Epoch 3/30\n",
            "1809/1809 [==============================] - 2s 1ms/step - loss: 0.2382 - accuracy: 0.8974\n",
            "Epoch 4/30\n",
            "1809/1809 [==============================] - 2s 1ms/step - loss: 0.2345 - accuracy: 0.8993\n",
            "Epoch 5/30\n",
            "1809/1809 [==============================] - 2s 1ms/step - loss: 0.2319 - accuracy: 0.8996\n",
            "Epoch 6/30\n",
            "1809/1809 [==============================] - 2s 1ms/step - loss: 0.2293 - accuracy: 0.9011\n",
            "Epoch 7/30\n",
            "1809/1809 [==============================] - 2s 1ms/step - loss: 0.2272 - accuracy: 0.9015\n",
            "Epoch 8/30\n",
            "1809/1809 [==============================] - 2s 1ms/step - loss: 0.2254 - accuracy: 0.9025\n",
            "Epoch 9/30\n",
            "1809/1809 [==============================] - 2s 1ms/step - loss: 0.2239 - accuracy: 0.9030\n",
            "Epoch 10/30\n",
            "1809/1809 [==============================] - 2s 1ms/step - loss: 0.2226 - accuracy: 0.9038\n",
            "Epoch 11/30\n",
            "1809/1809 [==============================] - 2s 1ms/step - loss: 0.2212 - accuracy: 0.9039\n",
            "Epoch 12/30\n",
            "1809/1809 [==============================] - 2s 1ms/step - loss: 0.2202 - accuracy: 0.9044\n",
            "Epoch 13/30\n",
            "1809/1809 [==============================] - 2s 1ms/step - loss: 0.2188 - accuracy: 0.9049\n",
            "Epoch 14/30\n",
            "1809/1809 [==============================] - 2s 1ms/step - loss: 0.2180 - accuracy: 0.9056\n",
            "Epoch 15/30\n",
            "1809/1809 [==============================] - 2s 1ms/step - loss: 0.2166 - accuracy: 0.9066\n",
            "Epoch 16/30\n",
            "1809/1809 [==============================] - 2s 1ms/step - loss: 0.2161 - accuracy: 0.9063\n",
            "Epoch 17/30\n",
            "1809/1809 [==============================] - 2s 1ms/step - loss: 0.2150 - accuracy: 0.9073\n",
            "Epoch 18/30\n",
            "1809/1809 [==============================] - 2s 1ms/step - loss: 0.2142 - accuracy: 0.9077\n",
            "Epoch 19/30\n",
            "1809/1809 [==============================] - 2s 1ms/step - loss: 0.2131 - accuracy: 0.9071\n",
            "Epoch 20/30\n",
            "1809/1809 [==============================] - 2s 1ms/step - loss: 0.2120 - accuracy: 0.9075\n",
            "Epoch 21/30\n",
            "1809/1809 [==============================] - 2s 1ms/step - loss: 0.2109 - accuracy: 0.9084\n",
            "Epoch 22/30\n",
            "1809/1809 [==============================] - 2s 1ms/step - loss: 0.2095 - accuracy: 0.9098\n",
            "Epoch 23/30\n",
            "1809/1809 [==============================] - 2s 1ms/step - loss: 0.2091 - accuracy: 0.9090\n",
            "Epoch 24/30\n",
            "1809/1809 [==============================] - 2s 1ms/step - loss: 0.2078 - accuracy: 0.9097\n",
            "Epoch 25/30\n",
            "1809/1809 [==============================] - 2s 1ms/step - loss: 0.2066 - accuracy: 0.9106\n",
            "Epoch 26/30\n",
            "1809/1809 [==============================] - 2s 1ms/step - loss: 0.2057 - accuracy: 0.9105\n",
            "Epoch 27/30\n",
            "1809/1809 [==============================] - 2s 1ms/step - loss: 0.2047 - accuracy: 0.9105\n",
            "Epoch 28/30\n",
            "1809/1809 [==============================] - 2s 1ms/step - loss: 0.2038 - accuracy: 0.9106\n",
            "Epoch 29/30\n",
            "1809/1809 [==============================] - 2s 1ms/step - loss: 0.2031 - accuracy: 0.9109\n",
            "Epoch 30/30\n",
            "1809/1809 [==============================] - 2s 1ms/step - loss: 0.2022 - accuracy: 0.9114\n"
          ],
          "name": "stdout"
        },
        {
          "output_type": "execute_result",
          "data": {
            "text/plain": [
              "<tensorflow.python.keras.callbacks.History at 0x7f39bdbd1390>"
            ]
          },
          "metadata": {
            "tags": []
          },
          "execution_count": 117
        }
      ]
    },
    {
      "cell_type": "code",
      "metadata": {
        "colab": {
          "base_uri": "https://localhost:8080/"
        },
        "id": "qeZ2bltsGrJQ",
        "outputId": "991e2fc9-bf44-4445-b06d-8480a27c0a2d"
      },
      "source": [
        "test_los, test_acc = model.evaluate(X_test, Y_test)"
      ],
      "execution_count": 118,
      "outputs": [
        {
          "output_type": "stream",
          "text": [
            "283/283 [==============================] - 0s 908us/step - loss: 0.2266 - accuracy: 0.9010\n"
          ],
          "name": "stdout"
        }
      ]
    },
    {
      "cell_type": "markdown",
      "metadata": {
        "id": "jfNLKE0MWSs9"
      },
      "source": [
        "#Logstic Regression with nn"
      ]
    },
    {
      "cell_type": "code",
      "metadata": {
        "id": "fllaAfQvWuwS"
      },
      "source": [
        "model1 = Sequential()"
      ],
      "execution_count": 122,
      "outputs": []
    },
    {
      "cell_type": "code",
      "metadata": {
        "id": "yVuRj9UqWPZO"
      },
      "source": [
        "model1.add(Dense(1, activation='sigmoid'))\n",
        "model1.compile(optimizer='adam', loss='binary_crossentropy', metrics=['accuracy'])"
      ],
      "execution_count": 128,
      "outputs": []
    },
    {
      "cell_type": "code",
      "metadata": {
        "colab": {
          "base_uri": "https://localhost:8080/"
        },
        "id": "jh77pQjoWf73",
        "outputId": "561bd933-83bb-4b90-f0ed-de0d372422bf"
      },
      "source": [
        "model1.fit(X_train, Y_train, epochs=30, batch_size=20)"
      ],
      "execution_count": 129,
      "outputs": [
        {
          "output_type": "stream",
          "text": [
            "Epoch 1/30\n",
            "1809/1809 [==============================] - 2s 1ms/step - loss: 0.4018 - accuracy: 0.8827\n",
            "Epoch 2/30\n",
            "1809/1809 [==============================] - 2s 1ms/step - loss: 0.3323 - accuracy: 0.8827\n",
            "Epoch 3/30\n",
            "1809/1809 [==============================] - 2s 1ms/step - loss: 0.3108 - accuracy: 0.8827\n",
            "Epoch 4/30\n",
            "1809/1809 [==============================] - 2s 1ms/step - loss: 0.2965 - accuracy: 0.8827\n",
            "Epoch 5/30\n",
            "1809/1809 [==============================] - 2s 1ms/step - loss: 0.2857 - accuracy: 0.8827\n",
            "Epoch 6/30\n",
            "1809/1809 [==============================] - 2s 1ms/step - loss: 0.2700 - accuracy: 0.8827\n",
            "Epoch 7/30\n",
            "1809/1809 [==============================] - 2s 1ms/step - loss: 0.2615 - accuracy: 0.8827\n",
            "Epoch 8/30\n",
            "1809/1809 [==============================] - 2s 1ms/step - loss: 0.2559 - accuracy: 0.8827\n",
            "Epoch 9/30\n",
            "1809/1809 [==============================] - 3s 1ms/step - loss: 0.2504 - accuracy: 0.8827\n",
            "Epoch 10/30\n",
            "1809/1809 [==============================] - 3s 2ms/step - loss: 0.2455 - accuracy: 0.8827\n",
            "Epoch 11/30\n",
            "1809/1809 [==============================] - 2s 1ms/step - loss: 0.2415 - accuracy: 0.8827\n",
            "Epoch 12/30\n",
            "1809/1809 [==============================] - 2s 1ms/step - loss: 0.2379 - accuracy: 0.8827\n",
            "Epoch 13/30\n",
            "1809/1809 [==============================] - 2s 1ms/step - loss: 0.2352 - accuracy: 0.8829\n",
            "Epoch 14/30\n",
            "1809/1809 [==============================] - 2s 1ms/step - loss: 0.2329 - accuracy: 0.8864\n",
            "Epoch 15/30\n",
            "1809/1809 [==============================] - 2s 1ms/step - loss: 0.2304 - accuracy: 0.8951\n",
            "Epoch 16/30\n",
            "1809/1809 [==============================] - 2s 1ms/step - loss: 0.2278 - accuracy: 0.8993\n",
            "Epoch 17/30\n",
            "1809/1809 [==============================] - 2s 1ms/step - loss: 0.2262 - accuracy: 0.8975\n",
            "Epoch 18/30\n",
            "1809/1809 [==============================] - 2s 1ms/step - loss: 0.2238 - accuracy: 0.8988\n",
            "Epoch 19/30\n",
            "1809/1809 [==============================] - 2s 1ms/step - loss: 0.2220 - accuracy: 0.8991\n",
            "Epoch 20/30\n",
            "1809/1809 [==============================] - 2s 1ms/step - loss: 0.2210 - accuracy: 0.9013\n",
            "Epoch 21/30\n",
            "1809/1809 [==============================] - 2s 1ms/step - loss: 0.2195 - accuracy: 0.9001\n",
            "Epoch 22/30\n",
            "1809/1809 [==============================] - 2s 1ms/step - loss: 0.2187 - accuracy: 0.9008\n",
            "Epoch 23/30\n",
            "1809/1809 [==============================] - 2s 1ms/step - loss: 0.2172 - accuracy: 0.9006\n",
            "Epoch 24/30\n",
            "1809/1809 [==============================] - 2s 1ms/step - loss: 0.2162 - accuracy: 0.9014\n",
            "Epoch 25/30\n",
            "1809/1809 [==============================] - 2s 1ms/step - loss: 0.2153 - accuracy: 0.9004\n",
            "Epoch 26/30\n",
            "1809/1809 [==============================] - 2s 1ms/step - loss: 0.2147 - accuracy: 0.9015\n",
            "Epoch 27/30\n",
            "1809/1809 [==============================] - 2s 1ms/step - loss: 0.2135 - accuracy: 0.9017\n",
            "Epoch 28/30\n",
            "1809/1809 [==============================] - 2s 1ms/step - loss: 0.2126 - accuracy: 0.9026\n",
            "Epoch 29/30\n",
            "1809/1809 [==============================] - 2s 1ms/step - loss: 0.2122 - accuracy: 0.9026\n",
            "Epoch 30/30\n",
            "1809/1809 [==============================] - 2s 1ms/step - loss: 0.2113 - accuracy: 0.9028\n"
          ],
          "name": "stdout"
        },
        {
          "output_type": "execute_result",
          "data": {
            "text/plain": [
              "<tensorflow.python.keras.callbacks.History at 0x7f39bec595f8>"
            ]
          },
          "metadata": {
            "tags": []
          },
          "execution_count": 129
        }
      ]
    },
    {
      "cell_type": "code",
      "metadata": {
        "colab": {
          "base_uri": "https://localhost:8080/"
        },
        "id": "ecqcnB2JXNEa",
        "outputId": "83305431-ccae-47b2-b662-98209c7c6a71"
      },
      "source": [
        "test1_los, test1_acc = model1.evaluate(X_test, Y_test)"
      ],
      "execution_count": 131,
      "outputs": [
        {
          "output_type": "stream",
          "text": [
            "283/283 [==============================] - 0s 898us/step - loss: 0.2353 - accuracy: 0.8994\n"
          ],
          "name": "stdout"
        }
      ]
    }
  ]
}